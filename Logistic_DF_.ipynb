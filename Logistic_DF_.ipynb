{
 "cells": [
  {
   "cell_type": "code",
   "execution_count": 1,
   "metadata": {},
   "outputs": [],
   "source": [
    "import pandas as pd\n",
    "import numpy as np\n",
    "import matplotlib.pyplot as plt\n",
    "%matplotlib inline\n",
    "import seaborn as sns\n",
    "\n",
    "#from sklearn.preprocessing import LabelEncoder\n",
    "#from sklearn.model_selection import train_test_split\n",
    "#from sklearn.linear_model import LogisticRegression\n",
    "#from sklearn.metrics import confusion_matrix"
   ]
  },
  {
   "cell_type": "code",
   "execution_count": 2,
   "metadata": {
    "scrolled": true
   },
   "outputs": [],
   "source": [
    "df = pd.read_csv('LR_DF.csv')"
   ]
  },
  {
   "cell_type": "code",
   "execution_count": 3,
   "metadata": {},
   "outputs": [
    {
     "data": {
      "text/html": [
       "<div>\n",
       "<style scoped>\n",
       "    .dataframe tbody tr th:only-of-type {\n",
       "        vertical-align: middle;\n",
       "    }\n",
       "\n",
       "    .dataframe tbody tr th {\n",
       "        vertical-align: top;\n",
       "    }\n",
       "\n",
       "    .dataframe thead th {\n",
       "        text-align: right;\n",
       "    }\n",
       "</style>\n",
       "<table border=\"1\" class=\"dataframe\">\n",
       "  <thead>\n",
       "    <tr style=\"text-align: right;\">\n",
       "      <th></th>\n",
       "      <th>Cust_ID</th>\n",
       "      <th>Target</th>\n",
       "      <th>Age</th>\n",
       "      <th>Gender</th>\n",
       "      <th>Balance</th>\n",
       "      <th>Occupation</th>\n",
       "      <th>No_OF_CR_TXNS</th>\n",
       "      <th>AGE_BKT</th>\n",
       "      <th>SCR</th>\n",
       "      <th>Holding_Period</th>\n",
       "    </tr>\n",
       "  </thead>\n",
       "  <tbody>\n",
       "    <tr>\n",
       "      <th>0</th>\n",
       "      <td>C1</td>\n",
       "      <td>0</td>\n",
       "      <td>30</td>\n",
       "      <td>M</td>\n",
       "      <td>160378.60</td>\n",
       "      <td>SAL</td>\n",
       "      <td>2</td>\n",
       "      <td>26-30</td>\n",
       "      <td>826</td>\n",
       "      <td>9.0</td>\n",
       "    </tr>\n",
       "    <tr>\n",
       "      <th>1</th>\n",
       "      <td>C10</td>\n",
       "      <td>1</td>\n",
       "      <td>41</td>\n",
       "      <td>M</td>\n",
       "      <td>84370.59</td>\n",
       "      <td>PROF</td>\n",
       "      <td>14</td>\n",
       "      <td>41-45</td>\n",
       "      <td>843</td>\n",
       "      <td>9.0</td>\n",
       "    </tr>\n",
       "    <tr>\n",
       "      <th>2</th>\n",
       "      <td>C100</td>\n",
       "      <td>0</td>\n",
       "      <td>49</td>\n",
       "      <td>F</td>\n",
       "      <td>60849.26</td>\n",
       "      <td>PROF</td>\n",
       "      <td>49</td>\n",
       "      <td>46-50</td>\n",
       "      <td>328</td>\n",
       "      <td>26.0</td>\n",
       "    </tr>\n",
       "    <tr>\n",
       "      <th>3</th>\n",
       "      <td>C1000</td>\n",
       "      <td>0</td>\n",
       "      <td>49</td>\n",
       "      <td>M</td>\n",
       "      <td>10558.81</td>\n",
       "      <td>SAL</td>\n",
       "      <td>23</td>\n",
       "      <td>46-50</td>\n",
       "      <td>619</td>\n",
       "      <td>19.0</td>\n",
       "    </tr>\n",
       "    <tr>\n",
       "      <th>4</th>\n",
       "      <td>C10000</td>\n",
       "      <td>0</td>\n",
       "      <td>43</td>\n",
       "      <td>M</td>\n",
       "      <td>97100.48</td>\n",
       "      <td>NaN</td>\n",
       "      <td>3</td>\n",
       "      <td>41-45</td>\n",
       "      <td>397</td>\n",
       "      <td>8.0</td>\n",
       "    </tr>\n",
       "    <tr>\n",
       "      <th>5</th>\n",
       "      <td>C10001</td>\n",
       "      <td>0</td>\n",
       "      <td>30</td>\n",
       "      <td>M</td>\n",
       "      <td>160378.60</td>\n",
       "      <td>SAL</td>\n",
       "      <td>2</td>\n",
       "      <td>26-30</td>\n",
       "      <td>781</td>\n",
       "      <td>11.0</td>\n",
       "    </tr>\n",
       "    <tr>\n",
       "      <th>6</th>\n",
       "      <td>C10002</td>\n",
       "      <td>0</td>\n",
       "      <td>43</td>\n",
       "      <td>M</td>\n",
       "      <td>26275.55</td>\n",
       "      <td>PROF</td>\n",
       "      <td>23</td>\n",
       "      <td>41-45</td>\n",
       "      <td>354</td>\n",
       "      <td>12.0</td>\n",
       "    </tr>\n",
       "    <tr>\n",
       "      <th>7</th>\n",
       "      <td>C10003</td>\n",
       "      <td>0</td>\n",
       "      <td>53</td>\n",
       "      <td>M</td>\n",
       "      <td>33616.47</td>\n",
       "      <td>SAL</td>\n",
       "      <td>45</td>\n",
       "      <td>&gt;50</td>\n",
       "      <td>239</td>\n",
       "      <td>5.0</td>\n",
       "    </tr>\n",
       "    <tr>\n",
       "      <th>8</th>\n",
       "      <td>C10004</td>\n",
       "      <td>0</td>\n",
       "      <td>45</td>\n",
       "      <td>M</td>\n",
       "      <td>1881.37</td>\n",
       "      <td>PROF</td>\n",
       "      <td>3</td>\n",
       "      <td>41-45</td>\n",
       "      <td>339</td>\n",
       "      <td>13.0</td>\n",
       "    </tr>\n",
       "    <tr>\n",
       "      <th>9</th>\n",
       "      <td>C10005</td>\n",
       "      <td>0</td>\n",
       "      <td>37</td>\n",
       "      <td>M</td>\n",
       "      <td>3274.37</td>\n",
       "      <td>PROF</td>\n",
       "      <td>33</td>\n",
       "      <td>36-40</td>\n",
       "      <td>535</td>\n",
       "      <td>9.0</td>\n",
       "    </tr>\n",
       "  </tbody>\n",
       "</table>\n",
       "</div>"
      ],
      "text/plain": [
       "  Cust_ID  Target  Age Gender    Balance Occupation  No_OF_CR_TXNS AGE_BKT  \\\n",
       "0      C1       0   30      M  160378.60        SAL              2   26-30   \n",
       "1     C10       1   41      M   84370.59       PROF             14   41-45   \n",
       "2    C100       0   49      F   60849.26       PROF             49   46-50   \n",
       "3   C1000       0   49      M   10558.81        SAL             23   46-50   \n",
       "4  C10000       0   43      M   97100.48        NaN              3   41-45   \n",
       "5  C10001       0   30      M  160378.60        SAL              2   26-30   \n",
       "6  C10002       0   43      M   26275.55       PROF             23   41-45   \n",
       "7  C10003       0   53      M   33616.47        SAL             45     >50   \n",
       "8  C10004       0   45      M    1881.37       PROF              3   41-45   \n",
       "9  C10005       0   37      M    3274.37       PROF             33   36-40   \n",
       "\n",
       "   SCR  Holding_Period  \n",
       "0  826             9.0  \n",
       "1  843             9.0  \n",
       "2  328            26.0  \n",
       "3  619            19.0  \n",
       "4  397             8.0  \n",
       "5  781            11.0  \n",
       "6  354            12.0  \n",
       "7  239             5.0  \n",
       "8  339            13.0  \n",
       "9  535             9.0  "
      ]
     },
     "execution_count": 3,
     "metadata": {},
     "output_type": "execute_result"
    }
   ],
   "source": [
    "df.head(10)"
   ]
  },
  {
   "cell_type": "code",
   "execution_count": 4,
   "metadata": {},
   "outputs": [
    {
     "data": {
      "text/plain": [
       "(20000, 10)"
      ]
     },
     "execution_count": 4,
     "metadata": {},
     "output_type": "execute_result"
    }
   ],
   "source": [
    "df.shape"
   ]
  },
  {
   "cell_type": "code",
   "execution_count": 5,
   "metadata": {},
   "outputs": [
    {
     "data": {
      "text/plain": [
       "Cust_ID            object\n",
       "Target              int64\n",
       "Age                 int64\n",
       "Gender             object\n",
       "Balance           float64\n",
       "Occupation         object\n",
       "No_OF_CR_TXNS       int64\n",
       "AGE_BKT            object\n",
       "SCR                 int64\n",
       "Holding_Period    float64\n",
       "dtype: object"
      ]
     },
     "execution_count": 5,
     "metadata": {},
     "output_type": "execute_result"
    }
   ],
   "source": [
    "df.dtypes"
   ]
  },
  {
   "cell_type": "code",
   "execution_count": 6,
   "metadata": {},
   "outputs": [
    {
     "data": {
      "text/html": [
       "<div>\n",
       "<style scoped>\n",
       "    .dataframe tbody tr th:only-of-type {\n",
       "        vertical-align: middle;\n",
       "    }\n",
       "\n",
       "    .dataframe tbody tr th {\n",
       "        vertical-align: top;\n",
       "    }\n",
       "\n",
       "    .dataframe thead th {\n",
       "        text-align: right;\n",
       "    }\n",
       "</style>\n",
       "<table border=\"1\" class=\"dataframe\">\n",
       "  <thead>\n",
       "    <tr style=\"text-align: right;\">\n",
       "      <th></th>\n",
       "      <th>count</th>\n",
       "      <th>unique</th>\n",
       "      <th>top</th>\n",
       "      <th>freq</th>\n",
       "      <th>mean</th>\n",
       "      <th>std</th>\n",
       "      <th>min</th>\n",
       "      <th>25%</th>\n",
       "      <th>50%</th>\n",
       "      <th>75%</th>\n",
       "      <th>max</th>\n",
       "    </tr>\n",
       "  </thead>\n",
       "  <tbody>\n",
       "    <tr>\n",
       "      <th>Cust_ID</th>\n",
       "      <td>20000</td>\n",
       "      <td>20000</td>\n",
       "      <td>C1</td>\n",
       "      <td>1</td>\n",
       "      <td>NaN</td>\n",
       "      <td>NaN</td>\n",
       "      <td>NaN</td>\n",
       "      <td>NaN</td>\n",
       "      <td>NaN</td>\n",
       "      <td>NaN</td>\n",
       "      <td>NaN</td>\n",
       "    </tr>\n",
       "    <tr>\n",
       "      <th>Target</th>\n",
       "      <td>20000.0</td>\n",
       "      <td>NaN</td>\n",
       "      <td>NaN</td>\n",
       "      <td>NaN</td>\n",
       "      <td>0.0444</td>\n",
       "      <td>0.205987</td>\n",
       "      <td>0.0</td>\n",
       "      <td>0.0</td>\n",
       "      <td>0.0</td>\n",
       "      <td>0.0</td>\n",
       "      <td>1.0</td>\n",
       "    </tr>\n",
       "    <tr>\n",
       "      <th>Age</th>\n",
       "      <td>20000.0</td>\n",
       "      <td>NaN</td>\n",
       "      <td>NaN</td>\n",
       "      <td>NaN</td>\n",
       "      <td>38.3962</td>\n",
       "      <td>9.600179</td>\n",
       "      <td>21.0</td>\n",
       "      <td>30.0</td>\n",
       "      <td>38.0</td>\n",
       "      <td>47.0</td>\n",
       "      <td>55.0</td>\n",
       "    </tr>\n",
       "    <tr>\n",
       "      <th>Gender</th>\n",
       "      <td>20000</td>\n",
       "      <td>3</td>\n",
       "      <td>M</td>\n",
       "      <td>14279</td>\n",
       "      <td>NaN</td>\n",
       "      <td>NaN</td>\n",
       "      <td>NaN</td>\n",
       "      <td>NaN</td>\n",
       "      <td>NaN</td>\n",
       "      <td>NaN</td>\n",
       "      <td>NaN</td>\n",
       "    </tr>\n",
       "    <tr>\n",
       "      <th>Balance</th>\n",
       "      <td>20000.0</td>\n",
       "      <td>NaN</td>\n",
       "      <td>NaN</td>\n",
       "      <td>NaN</td>\n",
       "      <td>146181.305626</td>\n",
       "      <td>169812.527447</td>\n",
       "      <td>0.0</td>\n",
       "      <td>23736.915</td>\n",
       "      <td>79755.745</td>\n",
       "      <td>217310.6325</td>\n",
       "      <td>1246966.77</td>\n",
       "    </tr>\n",
       "    <tr>\n",
       "      <th>Occupation</th>\n",
       "      <td>15360</td>\n",
       "      <td>4</td>\n",
       "      <td>SAL</td>\n",
       "      <td>5908</td>\n",
       "      <td>NaN</td>\n",
       "      <td>NaN</td>\n",
       "      <td>NaN</td>\n",
       "      <td>NaN</td>\n",
       "      <td>NaN</td>\n",
       "      <td>NaN</td>\n",
       "      <td>NaN</td>\n",
       "    </tr>\n",
       "    <tr>\n",
       "      <th>No_OF_CR_TXNS</th>\n",
       "      <td>20000.0</td>\n",
       "      <td>NaN</td>\n",
       "      <td>NaN</td>\n",
       "      <td>NaN</td>\n",
       "      <td>16.61795</td>\n",
       "      <td>12.96995</td>\n",
       "      <td>0.0</td>\n",
       "      <td>7.0</td>\n",
       "      <td>13.0</td>\n",
       "      <td>21.0</td>\n",
       "      <td>50.0</td>\n",
       "    </tr>\n",
       "    <tr>\n",
       "      <th>AGE_BKT</th>\n",
       "      <td>20000</td>\n",
       "      <td>7</td>\n",
       "      <td>31-35</td>\n",
       "      <td>3488</td>\n",
       "      <td>NaN</td>\n",
       "      <td>NaN</td>\n",
       "      <td>NaN</td>\n",
       "      <td>NaN</td>\n",
       "      <td>NaN</td>\n",
       "      <td>NaN</td>\n",
       "      <td>NaN</td>\n",
       "    </tr>\n",
       "    <tr>\n",
       "      <th>SCR</th>\n",
       "      <td>20000.0</td>\n",
       "      <td>NaN</td>\n",
       "      <td>NaN</td>\n",
       "      <td>NaN</td>\n",
       "      <td>557.13605</td>\n",
       "      <td>260.521453</td>\n",
       "      <td>100.0</td>\n",
       "      <td>333.0</td>\n",
       "      <td>560.0</td>\n",
       "      <td>784.0</td>\n",
       "      <td>999.0</td>\n",
       "    </tr>\n",
       "    <tr>\n",
       "      <th>Holding_Period</th>\n",
       "      <td>19000.0</td>\n",
       "      <td>NaN</td>\n",
       "      <td>NaN</td>\n",
       "      <td>NaN</td>\n",
       "      <td>15.199737</td>\n",
       "      <td>9.23918</td>\n",
       "      <td>0.0</td>\n",
       "      <td>7.0</td>\n",
       "      <td>15.0</td>\n",
       "      <td>23.0</td>\n",
       "      <td>31.0</td>\n",
       "    </tr>\n",
       "  </tbody>\n",
       "</table>\n",
       "</div>"
      ],
      "text/plain": [
       "                  count unique    top   freq           mean            std  \\\n",
       "Cust_ID           20000  20000     C1      1            NaN            NaN   \n",
       "Target          20000.0    NaN    NaN    NaN         0.0444       0.205987   \n",
       "Age             20000.0    NaN    NaN    NaN        38.3962       9.600179   \n",
       "Gender            20000      3      M  14279            NaN            NaN   \n",
       "Balance         20000.0    NaN    NaN    NaN  146181.305626  169812.527447   \n",
       "Occupation        15360      4    SAL   5908            NaN            NaN   \n",
       "No_OF_CR_TXNS   20000.0    NaN    NaN    NaN       16.61795       12.96995   \n",
       "AGE_BKT           20000      7  31-35   3488            NaN            NaN   \n",
       "SCR             20000.0    NaN    NaN    NaN      557.13605     260.521453   \n",
       "Holding_Period  19000.0    NaN    NaN    NaN      15.199737        9.23918   \n",
       "\n",
       "                  min        25%        50%          75%         max  \n",
       "Cust_ID           NaN        NaN        NaN          NaN         NaN  \n",
       "Target            0.0        0.0        0.0          0.0         1.0  \n",
       "Age              21.0       30.0       38.0         47.0        55.0  \n",
       "Gender            NaN        NaN        NaN          NaN         NaN  \n",
       "Balance           0.0  23736.915  79755.745  217310.6325  1246966.77  \n",
       "Occupation        NaN        NaN        NaN          NaN         NaN  \n",
       "No_OF_CR_TXNS     0.0        7.0       13.0         21.0        50.0  \n",
       "AGE_BKT           NaN        NaN        NaN          NaN         NaN  \n",
       "SCR             100.0      333.0      560.0        784.0       999.0  \n",
       "Holding_Period    0.0        7.0       15.0         23.0        31.0  "
      ]
     },
     "execution_count": 6,
     "metadata": {},
     "output_type": "execute_result"
    }
   ],
   "source": [
    "df.describe(include = 'all').T"
   ]
  },
  {
   "cell_type": "code",
   "execution_count": 7,
   "metadata": {},
   "outputs": [
    {
     "data": {
      "image/png": "[encoded data removed]",
      "text/plain": [
       "<Figure size 720x432 with 6 Axes>"
      ]
     },
     "metadata": {
      "needs_background": "light"
     },
     "output_type": "display_data"
    }
   ],
   "source": [
    "df.hist(layout = (2, 3), figsize = (10, 6))\n",
    "plt.show()"
   ]
  },
  {
   "cell_type": "code",
   "execution_count": 8,
   "metadata": {},
   "outputs": [
    {
     "data": {
      "text/plain": [
       "Cust_ID              0\n",
       "Target               0\n",
       "Age                  0\n",
       "Gender               0\n",
       "Balance              0\n",
       "Occupation        4640\n",
       "No_OF_CR_TXNS        0\n",
       "AGE_BKT              0\n",
       "SCR                  0\n",
       "Holding_Period    1000\n",
       "dtype: int64"
      ]
     },
     "execution_count": 8,
     "metadata": {},
     "output_type": "execute_result"
    }
   ],
   "source": [
    "df.isnull().sum()"
   ]
  },
  {
   "cell_type": "code",
   "execution_count": 9,
   "metadata": {},
   "outputs": [
    {
     "name": "stdout",
     "output_type": "stream",
     "text": [
      "SAL         5908\n",
      "PROF        5480\n",
      "SELF-EMP    3272\n",
      "SENP         700\n",
      "Name: Occupation, dtype: int64\n"
     ]
    }
   ],
   "source": [
    "print(df.Occupation.value_counts())"
   ]
  },
  {
   "cell_type": "code",
   "execution_count": 10,
   "metadata": {},
   "outputs": [],
   "source": [
    "df.Occupation = df.Occupation.replace(np.nan, 'UNEMP', regex=True)\n",
    "#df.head()"
   ]
  },
  {
   "cell_type": "code",
   "execution_count": 11,
   "metadata": {
    "scrolled": true
   },
   "outputs": [
    {
     "data": {
      "text/plain": [
       "SAL         5908\n",
       "PROF        5480\n",
       "UNEMP       4640\n",
       "SELF-EMP    3272\n",
       "SENP         700\n",
       "Name: Occupation, dtype: int64"
      ]
     },
     "execution_count": 11,
     "metadata": {},
     "output_type": "execute_result"
    }
   ],
   "source": [
    "df.Occupation.value_counts()"
   ]
  },
  {
   "cell_type": "code",
   "execution_count": 12,
   "metadata": {},
   "outputs": [
    {
     "data": {
      "text/plain": [
       "Cust_ID              0\n",
       "Target               0\n",
       "Age                  0\n",
       "Gender               0\n",
       "Balance              0\n",
       "Occupation           0\n",
       "No_OF_CR_TXNS        0\n",
       "AGE_BKT              0\n",
       "SCR                  0\n",
       "Holding_Period    1000\n",
       "dtype: int64"
      ]
     },
     "execution_count": 12,
     "metadata": {},
     "output_type": "execute_result"
    }
   ],
   "source": [
    "df.isnull().sum()"
   ]
  },
  {
   "cell_type": "code",
   "execution_count": 13,
   "metadata": {
    "scrolled": true
   },
   "outputs": [],
   "source": [
    "df.Holding_Period = df.Holding_Period.replace(np.nan,np.mean(df.Holding_Period), regex=True)\n",
    "#df.head()"
   ]
  },
  {
   "cell_type": "code",
   "execution_count": 14,
   "metadata": {},
   "outputs": [
    {
     "data": {
      "text/plain": [
       "Cust_ID           0\n",
       "Target            0\n",
       "Age               0\n",
       "Gender            0\n",
       "Balance           0\n",
       "Occupation        0\n",
       "No_OF_CR_TXNS     0\n",
       "AGE_BKT           0\n",
       "SCR               0\n",
       "Holding_Period    0\n",
       "dtype: int64"
      ]
     },
     "execution_count": 14,
     "metadata": {},
     "output_type": "execute_result"
    }
   ],
   "source": [
    "df.isnull().sum()"
   ]
  },
  {
   "cell_type": "code",
   "execution_count": 15,
   "metadata": {},
   "outputs": [
    {
     "data": {
      "text/plain": [
       "Cust_ID            object\n",
       "Target              int64\n",
       "Age                 int64\n",
       "Gender             object\n",
       "Balance           float64\n",
       "Occupation         object\n",
       "No_OF_CR_TXNS       int64\n",
       "AGE_BKT            object\n",
       "SCR                 int64\n",
       "Holding_Period    float64\n",
       "dtype: object"
      ]
     },
     "execution_count": 15,
     "metadata": {},
     "output_type": "execute_result"
    }
   ],
   "source": [
    "df.dtypes"
   ]
  },
  {
   "cell_type": "code",
   "execution_count": 16,
   "metadata": {
    "scrolled": true
   },
   "outputs": [],
   "source": [
    "from sklearn.preprocessing import LabelEncoder\n",
    "\n",
    "df_obj = df.select_dtypes(exclude=['int64', 'float64'])\n",
    "df_num = df.select_dtypes(include=['int64', 'float64'])\n",
    "df_encoded = df_obj.apply(LabelEncoder().fit_transform)\n",
    "df = df_num.join(df_encoded)"
   ]
  },
  {
   "cell_type": "code",
   "execution_count": 17,
   "metadata": {},
   "outputs": [
    {
     "data": {
      "text/html": [
       "<div>\n",
       "<style scoped>\n",
       "    .dataframe tbody tr th:only-of-type {\n",
       "        vertical-align: middle;\n",
       "    }\n",
       "\n",
       "    .dataframe tbody tr th {\n",
       "        vertical-align: top;\n",
       "    }\n",
       "\n",
       "    .dataframe thead th {\n",
       "        text-align: right;\n",
       "    }\n",
       "</style>\n",
       "<table border=\"1\" class=\"dataframe\">\n",
       "  <thead>\n",
       "    <tr style=\"text-align: right;\">\n",
       "      <th></th>\n",
       "      <th>Target</th>\n",
       "      <th>Age</th>\n",
       "      <th>Balance</th>\n",
       "      <th>No_OF_CR_TXNS</th>\n",
       "      <th>SCR</th>\n",
       "      <th>Holding_Period</th>\n",
       "      <th>Cust_ID</th>\n",
       "      <th>Gender</th>\n",
       "      <th>Occupation</th>\n",
       "      <th>AGE_BKT</th>\n",
       "    </tr>\n",
       "  </thead>\n",
       "  <tbody>\n",
       "    <tr>\n",
       "      <th>0</th>\n",
       "      <td>0</td>\n",
       "      <td>30</td>\n",
       "      <td>160378.60</td>\n",
       "      <td>2</td>\n",
       "      <td>826</td>\n",
       "      <td>9.0</td>\n",
       "      <td>0</td>\n",
       "      <td>1</td>\n",
       "      <td>1</td>\n",
       "      <td>0</td>\n",
       "    </tr>\n",
       "    <tr>\n",
       "      <th>1</th>\n",
       "      <td>1</td>\n",
       "      <td>41</td>\n",
       "      <td>84370.59</td>\n",
       "      <td>14</td>\n",
       "      <td>843</td>\n",
       "      <td>9.0</td>\n",
       "      <td>1</td>\n",
       "      <td>1</td>\n",
       "      <td>0</td>\n",
       "      <td>3</td>\n",
       "    </tr>\n",
       "    <tr>\n",
       "      <th>2</th>\n",
       "      <td>0</td>\n",
       "      <td>49</td>\n",
       "      <td>60849.26</td>\n",
       "      <td>49</td>\n",
       "      <td>328</td>\n",
       "      <td>26.0</td>\n",
       "      <td>2</td>\n",
       "      <td>0</td>\n",
       "      <td>0</td>\n",
       "      <td>4</td>\n",
       "    </tr>\n",
       "    <tr>\n",
       "      <th>3</th>\n",
       "      <td>0</td>\n",
       "      <td>49</td>\n",
       "      <td>10558.81</td>\n",
       "      <td>23</td>\n",
       "      <td>619</td>\n",
       "      <td>19.0</td>\n",
       "      <td>3</td>\n",
       "      <td>1</td>\n",
       "      <td>1</td>\n",
       "      <td>4</td>\n",
       "    </tr>\n",
       "    <tr>\n",
       "      <th>4</th>\n",
       "      <td>0</td>\n",
       "      <td>43</td>\n",
       "      <td>97100.48</td>\n",
       "      <td>3</td>\n",
       "      <td>397</td>\n",
       "      <td>8.0</td>\n",
       "      <td>4</td>\n",
       "      <td>1</td>\n",
       "      <td>4</td>\n",
       "      <td>3</td>\n",
       "    </tr>\n",
       "    <tr>\n",
       "      <th>5</th>\n",
       "      <td>0</td>\n",
       "      <td>30</td>\n",
       "      <td>160378.60</td>\n",
       "      <td>2</td>\n",
       "      <td>781</td>\n",
       "      <td>11.0</td>\n",
       "      <td>5</td>\n",
       "      <td>1</td>\n",
       "      <td>1</td>\n",
       "      <td>0</td>\n",
       "    </tr>\n",
       "    <tr>\n",
       "      <th>6</th>\n",
       "      <td>0</td>\n",
       "      <td>43</td>\n",
       "      <td>26275.55</td>\n",
       "      <td>23</td>\n",
       "      <td>354</td>\n",
       "      <td>12.0</td>\n",
       "      <td>6</td>\n",
       "      <td>1</td>\n",
       "      <td>0</td>\n",
       "      <td>3</td>\n",
       "    </tr>\n",
       "    <tr>\n",
       "      <th>7</th>\n",
       "      <td>0</td>\n",
       "      <td>53</td>\n",
       "      <td>33616.47</td>\n",
       "      <td>45</td>\n",
       "      <td>239</td>\n",
       "      <td>5.0</td>\n",
       "      <td>7</td>\n",
       "      <td>1</td>\n",
       "      <td>1</td>\n",
       "      <td>6</td>\n",
       "    </tr>\n",
       "    <tr>\n",
       "      <th>8</th>\n",
       "      <td>0</td>\n",
       "      <td>45</td>\n",
       "      <td>1881.37</td>\n",
       "      <td>3</td>\n",
       "      <td>339</td>\n",
       "      <td>13.0</td>\n",
       "      <td>8</td>\n",
       "      <td>1</td>\n",
       "      <td>0</td>\n",
       "      <td>3</td>\n",
       "    </tr>\n",
       "    <tr>\n",
       "      <th>9</th>\n",
       "      <td>0</td>\n",
       "      <td>37</td>\n",
       "      <td>3274.37</td>\n",
       "      <td>33</td>\n",
       "      <td>535</td>\n",
       "      <td>9.0</td>\n",
       "      <td>9</td>\n",
       "      <td>1</td>\n",
       "      <td>0</td>\n",
       "      <td>2</td>\n",
       "    </tr>\n",
       "  </tbody>\n",
       "</table>\n",
       "</div>"
      ],
      "text/plain": [
       "   Target  Age    Balance  No_OF_CR_TXNS  SCR  Holding_Period  Cust_ID  \\\n",
       "0       0   30  160378.60              2  826             9.0        0   \n",
       "1       1   41   84370.59             14  843             9.0        1   \n",
       "2       0   49   60849.26             49  328            26.0        2   \n",
       "3       0   49   10558.81             23  619            19.0        3   \n",
       "4       0   43   97100.48              3  397             8.0        4   \n",
       "5       0   30  160378.60              2  781            11.0        5   \n",
       "6       0   43   26275.55             23  354            12.0        6   \n",
       "7       0   53   33616.47             45  239             5.0        7   \n",
       "8       0   45    1881.37              3  339            13.0        8   \n",
       "9       0   37    3274.37             33  535             9.0        9   \n",
       "\n",
       "   Gender  Occupation  AGE_BKT  \n",
       "0       1           1        0  \n",
       "1       1           0        3  \n",
       "2       0           0        4  \n",
       "3       1           1        4  \n",
       "4       1           4        3  \n",
       "5       1           1        0  \n",
       "6       1           0        3  \n",
       "7       1           1        6  \n",
       "8       1           0        3  \n",
       "9       1           0        2  "
      ]
     },
     "execution_count": 17,
     "metadata": {},
     "output_type": "execute_result"
    }
   ],
   "source": [
    "df.head(10)"
   ]
  },
  {
   "cell_type": "code",
   "execution_count": 18,
   "metadata": {},
   "outputs": [
    {
     "data": {
      "text/html": [
       "<div>\n",
       "<style scoped>\n",
       "    .dataframe tbody tr th:only-of-type {\n",
       "        vertical-align: middle;\n",
       "    }\n",
       "\n",
       "    .dataframe tbody tr th {\n",
       "        vertical-align: top;\n",
       "    }\n",
       "\n",
       "    .dataframe thead th {\n",
       "        text-align: right;\n",
       "    }\n",
       "</style>\n",
       "<table border=\"1\" class=\"dataframe\">\n",
       "  <thead>\n",
       "    <tr style=\"text-align: right;\">\n",
       "      <th></th>\n",
       "      <th>Target</th>\n",
       "      <th>Age</th>\n",
       "      <th>Balance</th>\n",
       "      <th>No_OF_CR_TXNS</th>\n",
       "      <th>SCR</th>\n",
       "      <th>Holding_Period</th>\n",
       "      <th>Cust_ID</th>\n",
       "      <th>Gender</th>\n",
       "      <th>Occupation</th>\n",
       "      <th>AGE_BKT</th>\n",
       "    </tr>\n",
       "  </thead>\n",
       "  <tbody>\n",
       "    <tr>\n",
       "      <th>0</th>\n",
       "      <td>0</td>\n",
       "      <td>30</td>\n",
       "      <td>160378.60</td>\n",
       "      <td>2</td>\n",
       "      <td>826</td>\n",
       "      <td>9.0</td>\n",
       "      <td>0</td>\n",
       "      <td>1</td>\n",
       "      <td>1</td>\n",
       "      <td>0</td>\n",
       "    </tr>\n",
       "    <tr>\n",
       "      <th>1</th>\n",
       "      <td>1</td>\n",
       "      <td>41</td>\n",
       "      <td>84370.59</td>\n",
       "      <td>14</td>\n",
       "      <td>843</td>\n",
       "      <td>9.0</td>\n",
       "      <td>1</td>\n",
       "      <td>1</td>\n",
       "      <td>0</td>\n",
       "      <td>3</td>\n",
       "    </tr>\n",
       "    <tr>\n",
       "      <th>2</th>\n",
       "      <td>0</td>\n",
       "      <td>49</td>\n",
       "      <td>60849.26</td>\n",
       "      <td>49</td>\n",
       "      <td>328</td>\n",
       "      <td>26.0</td>\n",
       "      <td>2</td>\n",
       "      <td>0</td>\n",
       "      <td>0</td>\n",
       "      <td>4</td>\n",
       "    </tr>\n",
       "    <tr>\n",
       "      <th>3</th>\n",
       "      <td>0</td>\n",
       "      <td>49</td>\n",
       "      <td>10558.81</td>\n",
       "      <td>23</td>\n",
       "      <td>619</td>\n",
       "      <td>19.0</td>\n",
       "      <td>3</td>\n",
       "      <td>1</td>\n",
       "      <td>1</td>\n",
       "      <td>4</td>\n",
       "    </tr>\n",
       "    <tr>\n",
       "      <th>4</th>\n",
       "      <td>0</td>\n",
       "      <td>43</td>\n",
       "      <td>97100.48</td>\n",
       "      <td>3</td>\n",
       "      <td>397</td>\n",
       "      <td>8.0</td>\n",
       "      <td>4</td>\n",
       "      <td>1</td>\n",
       "      <td>4</td>\n",
       "      <td>3</td>\n",
       "    </tr>\n",
       "  </tbody>\n",
       "</table>\n",
       "</div>"
      ],
      "text/plain": [
       "   Target  Age    Balance  No_OF_CR_TXNS  SCR  Holding_Period  Cust_ID  \\\n",
       "0       0   30  160378.60              2  826             9.0        0   \n",
       "1       1   41   84370.59             14  843             9.0        1   \n",
       "2       0   49   60849.26             49  328            26.0        2   \n",
       "3       0   49   10558.81             23  619            19.0        3   \n",
       "4       0   43   97100.48              3  397             8.0        4   \n",
       "\n",
       "   Gender  Occupation  AGE_BKT  \n",
       "0       1           1        0  \n",
       "1       1           0        3  \n",
       "2       0           0        4  \n",
       "3       1           1        4  \n",
       "4       1           4        3  "
      ]
     },
     "execution_count": 18,
     "metadata": {},
     "output_type": "execute_result"
    }
   ],
   "source": [
    "df.head()"
   ]
  },
  {
   "cell_type": "code",
   "execution_count": null,
   "metadata": {},
   "outputs": [],
   "source": [
    "#df_encoded.head(3)"
   ]
  },
  {
   "cell_type": "code",
   "execution_count": 19,
   "metadata": {
    "scrolled": true
   },
   "outputs": [
    {
     "data": {
      "text/plain": [
       "(20000, 10)"
      ]
     },
     "execution_count": 19,
     "metadata": {},
     "output_type": "execute_result"
    }
   ],
   "source": [
    "df.shape"
   ]
  },
  {
   "cell_type": "code",
   "execution_count": 20,
   "metadata": {},
   "outputs": [
    {
     "data": {
      "text/plain": [
       "0    19112\n",
       "1      888\n",
       "Name: Target, dtype: int64"
      ]
     },
     "execution_count": 20,
     "metadata": {},
     "output_type": "execute_result"
    }
   ],
   "source": [
    "df.Target.value_counts()"
   ]
  },
  {
   "cell_type": "code",
   "execution_count": 21,
   "metadata": {},
   "outputs": [
    {
     "data": {
      "image/png": "[encoded data removed]",
      "text/plain": [
       "<Figure size 432x288 with 1 Axes>"
      ]
     },
     "metadata": {
      "needs_background": "light"
     },
     "output_type": "display_data"
    }
   ],
   "source": [
    "sns.countplot(x = df.Target)\n",
    "plt.show()"
   ]
  },
  {
   "cell_type": "code",
   "execution_count": 22,
   "metadata": {},
   "outputs": [
    {
     "data": {
      "image/png": "[encoded data removed]",
      "text/plain": [
       "<Figure size 432x288 with 1 Axes>"
      ]
     },
     "metadata": {
      "needs_background": "light"
     },
     "output_type": "display_data"
    }
   ],
   "source": [
    "sns.countplot(x = df.Target, hue = df.Occupation)\n",
    "plt.show()"
   ]
  },
  {
   "cell_type": "code",
   "execution_count": 23,
   "metadata": {},
   "outputs": [
    {
     "data": {
      "image/png": "[encoded data removed]",
      "text/plain": [
       "<Figure size 432x288 with 1 Axes>"
      ]
     },
     "metadata": {
      "needs_background": "light"
     },
     "output_type": "display_data"
    }
   ],
   "source": [
    "sns.countplot(x = df.Target, hue = df.AGE_BKT)\n",
    "plt.show()"
   ]
  },
  {
   "cell_type": "code",
   "execution_count": null,
   "metadata": {},
   "outputs": [],
   "source": [
    "df.Target.value_counts()"
   ]
  },
  {
   "cell_type": "code",
   "execution_count": 24,
   "metadata": {},
   "outputs": [
    {
     "data": {
      "text/plain": [
       "Index(['Target', 'Age', 'Balance', 'No_OF_CR_TXNS', 'SCR', 'Holding_Period',\n",
       "       'Cust_ID', 'Gender', 'Occupation', 'AGE_BKT'],\n",
       "      dtype='object')"
      ]
     },
     "execution_count": 24,
     "metadata": {},
     "output_type": "execute_result"
    }
   ],
   "source": [
    "df.columns"
   ]
  },
  {
   "cell_type": "code",
   "execution_count": 19,
   "metadata": {},
   "outputs": [
    {
     "data": {
      "text/html": [
       "<div>\n",
       "<style scoped>\n",
       "    .dataframe tbody tr th:only-of-type {\n",
       "        vertical-align: middle;\n",
       "    }\n",
       "\n",
       "    .dataframe tbody tr th {\n",
       "        vertical-align: top;\n",
       "    }\n",
       "\n",
       "    .dataframe thead th {\n",
       "        text-align: right;\n",
       "    }\n",
       "</style>\n",
       "<table border=\"1\" class=\"dataframe\">\n",
       "  <thead>\n",
       "    <tr style=\"text-align: right;\">\n",
       "      <th></th>\n",
       "      <th>Target</th>\n",
       "      <th>Balance</th>\n",
       "      <th>No_OF_CR_TXNS</th>\n",
       "      <th>SCR</th>\n",
       "      <th>Holding_Period</th>\n",
       "      <th>Gender</th>\n",
       "      <th>Occupation</th>\n",
       "      <th>AGE_BKT</th>\n",
       "    </tr>\n",
       "  </thead>\n",
       "  <tbody>\n",
       "    <tr>\n",
       "      <th>0</th>\n",
       "      <td>0</td>\n",
       "      <td>160378.60</td>\n",
       "      <td>2</td>\n",
       "      <td>826</td>\n",
       "      <td>9.0</td>\n",
       "      <td>1</td>\n",
       "      <td>1</td>\n",
       "      <td>0</td>\n",
       "    </tr>\n",
       "    <tr>\n",
       "      <th>1</th>\n",
       "      <td>1</td>\n",
       "      <td>84370.59</td>\n",
       "      <td>14</td>\n",
       "      <td>843</td>\n",
       "      <td>9.0</td>\n",
       "      <td>1</td>\n",
       "      <td>0</td>\n",
       "      <td>3</td>\n",
       "    </tr>\n",
       "  </tbody>\n",
       "</table>\n",
       "</div>"
      ],
      "text/plain": [
       "   Target    Balance  No_OF_CR_TXNS  SCR  Holding_Period  Gender  Occupation  \\\n",
       "0       0  160378.60              2  826             9.0       1           1   \n",
       "1       1   84370.59             14  843             9.0       1           0   \n",
       "\n",
       "   AGE_BKT  \n",
       "0        0  \n",
       "1        3  "
      ]
     },
     "execution_count": 19,
     "metadata": {},
     "output_type": "execute_result"
    }
   ],
   "source": [
    "df1 = df.drop(['Cust_ID', 'Age'], axis = 1)\n",
    "df1.head(2)"
   ]
  },
  {
   "cell_type": "code",
   "execution_count": 20,
   "metadata": {},
   "outputs": [],
   "source": [
    "inputData=df1.iloc[:,1:]\n",
    "outputData=df1.iloc[:,0]"
   ]
  },
  {
   "cell_type": "code",
   "execution_count": 21,
   "metadata": {},
   "outputs": [
    {
     "name": "stdout",
     "output_type": "stream",
     "text": [
      "Index(['Balance', 'No_OF_CR_TXNS', 'SCR', 'Holding_Period', 'Gender',\n",
      "       'Occupation', 'AGE_BKT'],\n",
      "      dtype='object')\n"
     ]
    },
    {
     "data": {
      "text/plain": [
       "'Target'"
      ]
     },
     "execution_count": 21,
     "metadata": {},
     "output_type": "execute_result"
    }
   ],
   "source": [
    "print(inputData.columns)\n",
    "outputData.name"
   ]
  },
  {
   "cell_type": "code",
   "execution_count": 22,
   "metadata": {},
   "outputs": [],
   "source": [
    "#X_train, X_test, y_train, y_test = train_test_split(df.drop(labels=['Target'], axis=1), df['Target'], test_size = 0.35)"
   ]
  },
  {
   "cell_type": "code",
   "execution_count": 23,
   "metadata": {},
   "outputs": [],
   "source": [
    "from sklearn.model_selection import train_test_split\n",
    "\n",
    "seed = 10\n",
    "test_size = 0.3\n",
    "X_train, X_test, y_train, y_test = train_test_split(inputData, outputData, test_size = test_size, random_state = seed, stratify = outputData)"
   ]
  },
  {
   "cell_type": "code",
   "execution_count": 34,
   "metadata": {},
   "outputs": [
    {
     "name": "stdout",
     "output_type": "stream",
     "text": [
      "Requirement already satisfied: imbalanced-learn in c:\\users\\new\\anaconda3\\lib\\site-packages (0.9.0)\n",
      "Requirement already satisfied: numpy>=1.14.6 in c:\\users\\new\\anaconda3\\lib\\site-packages (from imbalanced-learn) (1.20.3)\n",
      "Requirement already satisfied: scikit-learn>=1.0.1 in c:\\users\\new\\anaconda3\\lib\\site-packages (from imbalanced-learn) (1.0.2)\n",
      "Requirement already satisfied: joblib>=0.11 in c:\\users\\new\\anaconda3\\lib\\site-packages (from imbalanced-learn) (1.1.0)\n",
      "Requirement already satisfied: scipy>=1.1.0 in c:\\users\\new\\anaconda3\\lib\\site-packages (from imbalanced-learn) (1.7.1)\n",
      "Requirement already satisfied: threadpoolctl>=2.0.0 in c:\\users\\new\\anaconda3\\lib\\site-packages (from imbalanced-learn) (2.2.0)\n"
     ]
    }
   ],
   "source": [
    "!pip install imbalanced-learn\n"
   ]
  },
  {
   "cell_type": "code",
   "execution_count": 29,
   "metadata": {},
   "outputs": [],
   "source": [
    "from imblearn.over_sampling import SMOTE\n",
    "\n",
    "seed = 10\n",
    "k = 1\n",
    "sm =  SMOTE( sampling_strategy='auto', k_neighbors=1, random_state=seed)\n",
    "X_res, y_res = sm.fit_resample(X_train, y_train)"
   ]
  },
  {
   "cell_type": "code",
   "execution_count": 30,
   "metadata": {},
   "outputs": [
    {
     "data": {
      "text/plain": [
       "0    13378\n",
       "1    13378\n",
       "Name: Target, dtype: int64"
      ]
     },
     "execution_count": 30,
     "metadata": {},
     "output_type": "execute_result"
    }
   ],
   "source": [
    "y_res.value_counts()"
   ]
  },
  {
   "cell_type": "code",
   "execution_count": 31,
   "metadata": {},
   "outputs": [
    {
     "data": {
      "text/plain": [
       "LogisticRegression(max_iter=1000, random_state=10)"
      ]
     },
     "execution_count": 31,
     "metadata": {},
     "output_type": "execute_result"
    }
   ],
   "source": [
    "from sklearn.linear_model import LogisticRegression\n",
    "model = LogisticRegression(random_state = 10, max_iter = 1000)\n",
    "model.fit(X_res,y_res) # training the model "
   ]
  },
  {
   "cell_type": "code",
   "execution_count": null,
   "metadata": {},
   "outputs": [],
   "source": []
  },
  {
   "cell_type": "code",
   "execution_count": 32,
   "metadata": {},
   "outputs": [
    {
     "data": {
      "text/plain": [
       "array([1, 0, 1, ..., 0, 0, 0], dtype=int64)"
      ]
     },
     "execution_count": 32,
     "metadata": {},
     "output_type": "execute_result"
    }
   ],
   "source": [
    "pred = model.predict(X_test)\n",
    "pred"
   ]
  },
  {
   "cell_type": "code",
   "execution_count": 33,
   "metadata": {},
   "outputs": [
    {
     "data": {
      "text/plain": [
       "array([[-4.53282712e-06,  4.63674023e-02,  9.66536596e-04,\n",
       "        -7.25835200e-02, -1.04925201e-03, -5.82983347e-04,\n",
       "        -5.01677000e-03]])"
      ]
     },
     "execution_count": 33,
     "metadata": {},
     "output_type": "execute_result"
    }
   ],
   "source": [
    "model.coef_"
   ]
  },
  {
   "cell_type": "code",
   "execution_count": 34,
   "metadata": {},
   "outputs": [
    {
     "data": {
      "text/plain": [
       "array([-0.00135936])"
      ]
     },
     "execution_count": 34,
     "metadata": {},
     "output_type": "execute_result"
    }
   ],
   "source": [
    "model.intercept_"
   ]
  },
  {
   "cell_type": "code",
   "execution_count": 35,
   "metadata": {},
   "outputs": [
    {
     "data": {
      "text/plain": [
       "array([[0.18171283, 0.81828717],\n",
       "       [0.69633497, 0.30366503],\n",
       "       [0.43462773, 0.56537227],\n",
       "       ...,\n",
       "       [0.79564252, 0.20435748],\n",
       "       [0.60312811, 0.39687189],\n",
       "       [0.85811103, 0.14188897]])"
      ]
     },
     "execution_count": 35,
     "metadata": {},
     "output_type": "execute_result"
    }
   ],
   "source": [
    "model.predict_proba(X_test)"
   ]
  },
  {
   "cell_type": "code",
   "execution_count": 36,
   "metadata": {},
   "outputs": [
    {
     "name": "stdout",
     "output_type": "stream",
     "text": [
      "[[3730 2004]\n",
      " [  65  201]]\n"
     ]
    }
   ],
   "source": [
    "from sklearn.metrics import confusion_matrix\n",
    "#con_mat = confusion_matrix(y_test, pred)\n",
    "con_mat = confusion_matrix(y_test, pred)\n",
    "print(con_mat)\n"
   ]
  },
  {
   "cell_type": "code",
   "execution_count": 37,
   "metadata": {},
   "outputs": [
    {
     "name": "stdout",
     "output_type": "stream",
     "text": [
      "[[ 201   65]\n",
      " [2004 3730]]\n"
     ]
    }
   ],
   "source": [
    "labels = [1, 0]\n",
    "con_mat = confusion_matrix(y_test, pred, labels = labels)\n",
    "print(con_mat)"
   ]
  },
  {
   "cell_type": "code",
   "execution_count": 38,
   "metadata": {},
   "outputs": [
    {
     "name": "stdout",
     "output_type": "stream",
     "text": [
      "0.6551666666666667\n"
     ]
    }
   ],
   "source": [
    "accuracy = (con_mat[0,0]+con_mat[1,1])/y_test.size\n",
    "print(accuracy)    # Mean Accuracy on testing data"
   ]
  },
  {
   "cell_type": "code",
   "execution_count": 39,
   "metadata": {},
   "outputs": [
    {
     "data": {
      "text/plain": [
       "LogisticRegression(class_weight='balanced')"
      ]
     },
     "execution_count": 39,
     "metadata": {},
     "output_type": "execute_result"
    }
   ],
   "source": [
    "# Creating a model by handling imbalanced class\n",
    "model_1 = LogisticRegression(class_weight='balanced')\n",
    "model_1.fit(X_train,y_train) # training the model "
   ]
  },
  {
   "cell_type": "code",
   "execution_count": 40,
   "metadata": {},
   "outputs": [],
   "source": [
    "pred_1 = model_1.predict(X_test)"
   ]
  },
  {
   "cell_type": "code",
   "execution_count": 41,
   "metadata": {},
   "outputs": [
    {
     "name": "stdout",
     "output_type": "stream",
     "text": [
      "[[ 203   63]\n",
      " [2095 3639]]\n"
     ]
    }
   ],
   "source": [
    "labels = [1,0]\n",
    "\n",
    "con_mat_1 = confusion_matrix(y_test, pred_1, labels=labels)\n",
    "print(con_mat_1)"
   ]
  },
  {
   "cell_type": "code",
   "execution_count": null,
   "metadata": {},
   "outputs": [],
   "source": [
    "precision = con_mat[0][0]/(con_mat[0][0] + con_mat[1][0])\n",
    "print(precision)"
   ]
  },
  {
   "cell_type": "code",
   "execution_count": null,
   "metadata": {},
   "outputs": [],
   "source": [
    "#pred_array = np.asarray(pred).reshape(-1,1)\n",
    "#pred_array.shape\n",
    "#y_array = np.asarray(y_test).reshape(-1,1)\n",
    "#y_array.shape"
   ]
  },
  {
   "cell_type": "code",
   "execution_count": 42,
   "metadata": {},
   "outputs": [
    {
     "name": "stdout",
     "output_type": "stream",
     "text": [
      "0.6551666666666667\n",
      "0.7224547764987292\n"
     ]
    }
   ],
   "source": [
    "print(model.score(X_test, y_test)) # testing Accuracy\n",
    "print(model.score(X_res, y_res)) # training accuracy"
   ]
  },
  {
   "cell_type": "code",
   "execution_count": null,
   "metadata": {},
   "outputs": [],
   "source": [
    "print(model.coef_)"
   ]
  },
  {
   "cell_type": "code",
   "execution_count": 43,
   "metadata": {},
   "outputs": [],
   "source": [
    "from sklearn.metrics import roc_curve, roc_auc_score, auc"
   ]
  },
  {
   "cell_type": "code",
   "execution_count": null,
   "metadata": {},
   "outputs": [],
   "source": [
    "#model_1.predict_proba(X_test)"
   ]
  },
  {
   "cell_type": "code",
   "execution_count": 44,
   "metadata": {},
   "outputs": [
    {
     "data": {
      "image/png": "[encoded data removed]",
      "text/plain": [
       "<Figure size 432x288 with 1 Axes>"
      ]
     },
     "metadata": {
      "needs_background": "light"
     },
     "output_type": "display_data"
    }
   ],
   "source": [
    "##Computing false and true positive rates\n",
    "\n",
    "preds = model.predict_proba(X_test)[:,1]\n",
    "fpr, tpr, threshold = roc_curve(y_test, preds, drop_intermediate=False)\n",
    "roc_auc = auc(fpr, tpr)\n",
    "plt.figure()\n",
    "##Adding the ROC\n",
    "plt.plot(fpr, tpr, 'r', label = 'AUC = %0.2f' % roc_auc)\n",
    "##Random FPR and TPR\n",
    "plt.plot([0, 1], [0, 1], color='blue', lw=2, linestyle='--')\n",
    "##Title and label\n",
    "plt.legend(loc = 'best')\n",
    "plt.xlabel('FPR')\n",
    "plt.ylabel('TPR')\n",
    "plt.title('ROC curve')\n",
    "plt.show()"
   ]
  },
  {
   "cell_type": "code",
   "execution_count": 45,
   "metadata": {},
   "outputs": [
    {
     "name": "stdout",
     "output_type": "stream",
     "text": [
      "0.7588051485532807\n",
      "0.7588051485532807\n"
     ]
    }
   ],
   "source": [
    "print(roc_auc_score(y_test, preds))\n",
    "print(auc(fpr, tpr))"
   ]
  },
  {
   "cell_type": "code",
   "execution_count": 46,
   "metadata": {},
   "outputs": [
    {
     "data": {
      "text/plain": [
       "[<matplotlib.lines.Line2D at 0x1cb024d08b0>]"
      ]
     },
     "execution_count": 46,
     "metadata": {},
     "output_type": "execute_result"
    },
    {
     "data": {
      "image/png": "[encoded data removed]",
      "text/plain": [
       "<Figure size 432x288 with 1 Axes>"
      ]
     },
     "metadata": {
      "needs_background": "light"
     },
     "output_type": "display_data"
    }
   ],
   "source": [
    "plt.plot(threshold,fpr)"
   ]
  },
  {
   "cell_type": "code",
   "execution_count": 47,
   "metadata": {},
   "outputs": [
    {
     "data": {
      "text/plain": [
       "[<matplotlib.lines.Line2D at 0x1cb02537e80>]"
      ]
     },
     "execution_count": 47,
     "metadata": {},
     "output_type": "execute_result"
    },
    {
     "data": {
      "image/png": "[encoded data removed]",
      "text/plain": [
       "<Figure size 432x288 with 1 Axes>"
      ]
     },
     "metadata": {
      "needs_background": "light"
     },
     "output_type": "display_data"
    }
   ],
   "source": [
    "plt.plot(threshold,tpr)"
   ]
  },
  {
   "cell_type": "code",
   "execution_count": 48,
   "metadata": {},
   "outputs": [
    {
     "data": {
      "text/plain": [
       "(0.0, 1.0)"
      ]
     },
     "execution_count": 48,
     "metadata": {},
     "output_type": "execute_result"
    },
    {
     "data": {
      "image/png": "[encoded data removed]",
      "text/plain": [
       "<Figure size 432x288 with 1 Axes>"
      ]
     },
     "metadata": {
      "needs_background": "light"
     },
     "output_type": "display_data"
    }
   ],
   "source": [
    "from sklearn.metrics import precision_recall_curve\n",
    "precision, recall, thresholds = precision_recall_curve(y_test, preds) \n",
    "\n",
    "#pr_auc = auc(recall, precision)\n",
    "\n",
    "plt.title(\"Precision-Recall vs Threshold Chart\")\n",
    "plt.plot(thresholds, precision[: -1], \"b--\", label=\"Precision\")\n",
    "plt.plot(thresholds, recall[: -1], \"r--\", label=\"Recall\")\n",
    "plt.ylabel(\"Precision, Recall\")\n",
    "plt.xlabel(\"Threshold\")\n",
    "plt.legend(loc=\"best\")\n",
    "plt.ylim([0,1])\n"
   ]
  },
  {
   "cell_type": "code",
   "execution_count": 49,
   "metadata": {},
   "outputs": [],
   "source": [
    "from sklearn.metrics import accuracy_score, classification_report"
   ]
  },
  {
   "cell_type": "code",
   "execution_count": 53,
   "metadata": {},
   "outputs": [
    {
     "name": "stdout",
     "output_type": "stream",
     "text": [
      "Report : \n",
      "              precision    recall  f1-score   support\n",
      "\n",
      "           0       0.98      0.65      0.78      5734\n",
      "           1       0.09      0.76      0.16       266\n",
      "\n",
      "    accuracy                           0.66      6000\n",
      "   macro avg       0.54      0.70      0.47      6000\n",
      "weighted avg       0.94      0.66      0.76      6000\n",
      "\n"
     ]
    }
   ],
   "source": [
    "actual = y_test\n",
    "predicted = pred\n",
    "#results = confusion_matrix(actual, predicted) \n",
    "#print('Confusion Matrix :')\n",
    "#print(results) \n",
    "#print ('Accuracy Score :',accuracy_score(actual, predicted)) \n",
    "print ('Report : ')\n",
    "print (classification_report(actual, predicted))"
   ]
  },
  {
   "cell_type": "code",
   "execution_count": 59,
   "metadata": {},
   "outputs": [],
   "source": [
    "threshold = 0.82\n",
    "pred1 = np.where(model.predict_proba(X_test)[:,1] >= threshold, 1, 0)"
   ]
  },
  {
   "cell_type": "code",
   "execution_count": 60,
   "metadata": {},
   "outputs": [
    {
     "name": "stdout",
     "output_type": "stream",
     "text": [
      "[[5444  290]\n",
      " [ 220   46]]\n"
     ]
    }
   ],
   "source": [
    "con_mat_1 = confusion_matrix(y_test, pred1)\n",
    "print(con_mat_1)"
   ]
  },
  {
   "cell_type": "code",
   "execution_count": null,
   "metadata": {},
   "outputs": [],
   "source": [
    "#from sklearn.preprocessing import binarize\n",
    "#y_pred_proba = model.predict_proba(X_test)\n",
    "#y_pred_default = binarize(y_pred_proba, threshold=0.45)\n",
    "#y_pred_default"
   ]
  },
  {
   "cell_type": "code",
   "execution_count": null,
   "metadata": {},
   "outputs": [],
   "source": [
    "#pred2 = y_pred_default[:,1]"
   ]
  },
  {
   "cell_type": "code",
   "execution_count": 58,
   "metadata": {},
   "outputs": [
    {
     "data": {
      "text/plain": [
       "0.129"
      ]
     },
     "execution_count": 58,
     "metadata": {},
     "output_type": "execute_result"
    }
   ],
   "source": [
    "accuracy_score(actual, pred1)"
   ]
  },
  {
   "cell_type": "code",
   "execution_count": null,
   "metadata": {},
   "outputs": [],
   "source": [
    "pd.Series(model.predict_proba(X_test)[:,1]).hist()"
   ]
  },
  {
   "cell_type": "code",
   "execution_count": null,
   "metadata": {},
   "outputs": [],
   "source": [
    "from sklearn.model_selection import GridSearchCV\n",
    "\n",
    "param_grid = { 'C': [0.001, 0.01, 0.1, 1, 10, 100, 1000],\n",
    "               'penalty':['l1', 'l2']\n",
    "             }\n",
    "clf = GridSearchCV(LogisticRegression(solver = 'liblinear'),  param_grid)\n",
    "\n",
    "clf.fit(X_train, y_train)\n",
    "\n"
   ]
  },
  {
   "cell_type": "code",
   "execution_count": null,
   "metadata": {},
   "outputs": [],
   "source": [
    "clf.best_score_"
   ]
  },
  {
   "cell_type": "code",
   "execution_count": null,
   "metadata": {},
   "outputs": [],
   "source": [
    "clf.best_estimator_"
   ]
  }
 ],
 "metadata": {
  "kernelspec": {
   "display_name": "Python 3 (ipykernel)",
   "language": "python",
   "name": "python3"
  },
  "language_info": {
   "codemirror_mode": {
    "name": "ipython",
    "version": 3
   },
   "file_extension": ".py",
   "mimetype": "text/x-python",
   "name": "python",
   "nbconvert_exporter": "python",
   "pygments_lexer": "ipython3",
   "version": "3.9.7"
  }
 },
 "nbformat": 4,
 "nbformat_minor": 4
}
